{
 "cells": [
  {
   "cell_type": "code",
   "execution_count": 1,
   "metadata": {},
   "outputs": [],
   "source": [
    "%matplotlib widget\n",
    "import matplotlib \n",
    "import os.path\n",
    "import numpy as np\n",
    "import scipy.linalg as la\n",
    "from numpy import *\n",
    "from matplotlib import animation\n",
    "import matplotlib.pyplot as plt\n",
    "\n",
    "# define format for the plots\n",
    "import matplotlib as mpl\n",
    "mpl.rcParams['figure.figsize'] = [8, 6]\n",
    "mpl.rcParams['lines.linewidth'] = 2\n",
    "mpl.rcParams['xtick.top'] = True\n",
    "mpl.rcParams['xtick.labelsize'] = 20\n",
    "mpl.rcParams['xtick.major.width'] = 1.0\n",
    "mpl.rcParams['xtick.minor.width'] = 0.8\n",
    "mpl.rcParams['xtick.minor.visible'] = True\n",
    "mpl.rcParams['xtick.direction'] = \"in\"\n",
    "mpl.rcParams['ytick.right'] = True\n",
    "mpl.rcParams['ytick.labelsize'] = 20\n",
    "mpl.rcParams['ytick.major.width'] = 1.0\n",
    "mpl.rcParams['ytick.minor.width'] = 0.8\n",
    "mpl.rcParams['ytick.minor.visible'] = True\n",
    "mpl.rcParams['ytick.direction'] = \"in\"\n",
    "mpl.rcParams['legend.fontsize'] = 20\n",
    "mpl.rcParams['legend.numpoints'] = 1\n",
    "mpl.rcParams['font.size'] = 20\n",
    "mpl.rcParams[\"text.usetex\"]= True\n",
    "mpl.rcParams['savefig.format'] = \"pdf\"\n",
    "\n",
    "#Pi,L1,L2,L3\n",
    "x = np.linspace(-1, 1, 31)\n",
    "x2 = np.linspace(-1, 1, 51)\n",
    "#cs2\n",
    "y = np.linspace(0.15, 1./3., 25)\n",
    "\n",
    "W,X,Y,Z, = np.meshgrid(x,x,x,y)\n",
    "Pi = np.ravel(W)\n",
    "cs2 = np.ravel(Z)\n",
    "A = - X - Y\n",
    "L3 = np.ravel(np.maximum.reduce([A,X,Y]))\n",
    "L1 = np.ravel(np.minimum.reduce([A,X,Y]))\n",
    "L2 = - L3 - L1"
   ]
  },
  {
   "cell_type": "code",
   "execution_count": 50,
   "metadata": {},
   "outputs": [
    {
     "name": "stderr",
     "output_type": "stream",
     "text": [
      "<ipython-input-50-af563f8cffbb>:36: RuntimeWarning: divide by zero encountered in true_divide\n",
      "  ((deltapipi_pi - 1./12.*taupipi_pi)*(lambdaPipi_Pi + cs2 - 1./12.*taupipi_pi)\n",
      "<ipython-input-50-af563f8cffbb>:36: RuntimeWarning: invalid value encountered in true_divide\n",
      "  ((deltapipi_pi - 1./12.*taupipi_pi)*(lambdaPipi_Pi + cs2 - 1./12.*taupipi_pi)\n",
      "<ipython-input-50-af563f8cffbb>:42: RuntimeWarning: divide by zero encountered in true_divide\n",
      "  -((((1. + Pi + L2)*(1. + Pi + L3))/(3*(1. + Pi - abs(L1))**2))\n",
      "<ipython-input-50-af563f8cffbb>:42: RuntimeWarning: invalid value encountered in true_divide\n",
      "  -((((1. + Pi + L2)*(1. + Pi + L3))/(3*(1. + Pi - abs(L1))**2))\n"
     ]
    },
    {
     "data": {
      "application/vnd.jupyter.widget-view+json": {
       "model_id": "91969d2d71ac467bbb131ea24e50ee7c",
       "version_major": 2,
       "version_minor": 0
      },
      "text/plain": [
       "Canvas(toolbar=Toolbar(toolitems=[('Home', 'Reset original view', 'home', 'home'), ('Back', 'Back to previous …"
      ]
     },
     "metadata": {},
     "output_type": "display_data"
    },
    {
     "data": {
      "application/vnd.jupyter.widget-view+json": {
       "model_id": "79c1340cf8394fcfb67202d8bdb921d0",
       "version_major": 2,
       "version_minor": 0
      },
      "text/plain": [
       "Canvas(toolbar=Toolbar(toolitems=[('Home', 'Reset original view', 'home', 'home'), ('Back', 'Back to previous …"
      ]
     },
     "metadata": {},
     "output_type": "display_data"
    },
    {
     "data": {
      "text/plain": [
       "(-0.05, 1.5)"
      ]
     },
     "execution_count": 50,
     "metadata": {},
     "output_type": "execute_result"
    }
   ],
   "source": [
    "#off,strongly coupled\n",
    "\n",
    "C_eta = 5.\n",
    "zeta_r = (1./3.-cs2)/(2.-np.log(2))\n",
    "#zeta_r = 291./20.*(1./3.-cs2)**2\n",
    "#the choice of zeta_r is important\n",
    "taupipi_pi = 10./7.*0\n",
    "deltapipi_pi = 4./3. #necessary\n",
    "lambdapiPi_pi = 6./5.*0\n",
    "deltaPiPi_Pi = 2./3. #necessary\n",
    "lambdaPipi_Pi = 8./5.*(1./3.-cs2)*0\n",
    "\n",
    "n1 = 2./C_eta + lambdapiPi_pi*Pi - 1./2.*taupipi_pi*abs(L1)\n",
    "\n",
    "n2 = 1. - 1./C_eta + (1. - 1./2.*lambdapiPi_pi)*Pi - 1./4.*taupipi_pi*L3\n",
    "\n",
    "n3_3 = 1./C_eta + 1./2.*lambdapiPi_pi*Pi - 1./4.*taupipi_pi*L3\n",
    "\n",
    "n4_1 = 1. - 1./C_eta + (1. - lambdapiPi_pi/2.)*Pi + (1. - taupipi_pi/4.)*L1 - taupipi_pi/4.*L2\n",
    "n4_2 = 1. - 1./C_eta + (1. - lambdapiPi_pi/2.)*Pi + (1. - taupipi_pi/4.)*L1 - taupipi_pi/4.*L3\n",
    "n4_3 = 1. - 1./C_eta + (1. - lambdapiPi_pi/2.)*Pi + (1. - taupipi_pi/4.)*L2 - taupipi_pi/4.*L1\n",
    "n4_4 = 1. - 1./C_eta + (1. - lambdapiPi_pi/2.)*Pi + (1. - taupipi_pi/4.)*L2 - taupipi_pi/4.*L3\n",
    "n4_5 = 1. - 1./C_eta + (1. - lambdapiPi_pi/2.)*Pi + (1. - taupipi_pi/4.)*L3 - taupipi_pi/4.*L1\n",
    "n4_6 = 1. - 1./C_eta + (1. - lambdapiPi_pi/2.)*Pi + (1. - taupipi_pi/4.)*L3 - taupipi_pi/4.*L2\n",
    "\n",
    "n5_1 = (cs2 + 4./3.*1./C_eta + zeta_r + (2./3.*lambdapiPi_pi + deltaPiPi_Pi + cs2)*Pi\n",
    "        + (deltapipi_pi + 1./3.*taupipi_pi + lambdaPipi_Pi + cs2)*L1)\n",
    "\n",
    "n6_3 = (1. - cs2 - 4./3.*1./C_eta - zeta_r + (1. - 2./3.*lambdapiPi_pi - deltaPiPi_Pi - cs2)*Pi\n",
    "        + (1. - deltapipi_pi - 1./3.*taupipi_pi - lambdaPipi_Pi - cs2)*L3)\n",
    "\n",
    "s1 = 1. - 1./C_eta - abs(L1) + (1. - 1./2.*lambdapiPi_pi)*Pi - (1./2.*taupipi_pi)*L3\n",
    "s2 = 2./C_eta + lambdapiPi_pi*Pi - taupipi_pi*abs(L1)\n",
    "s3 = ((1. + Pi)*(1. - cs2))-(4./3.*1./C_eta + zeta_r + (2./3.*lambdapiPi_pi + deltaPiPi_Pi)*Pi \n",
    "                             + (deltapipi_pi + 1./3.*taupipi_pi + lambdaPipi_Pi + cs2)*L3 + abs(L1) + \n",
    "                             ((deltapipi_pi - 1./12.*taupipi_pi)*(lambdaPipi_Pi + cs2 - 1./12.*taupipi_pi)\n",
    "                             *(L3 + abs(L1))**2)/(1. - 1./C_eta + (1. - 1./2.*lambdapiPi_pi)*Pi - abs(L1) - 1./2.*taupipi_pi*L3))\n",
    "s4 = 1./3./C_eta + (1./6.*lambdapiPi_pi + deltaPiPi_Pi + cs2)*Pi + (1./6.*taupipi_pi - deltapipi_pi + lambdaPipi_Pi - cs2)*abs(L1) + zeta_r + cs2\n",
    "s5 = ((1./C_eta + 1./2.*lambdapiPi_pi*Pi - 1./2.*taupipi_pi*abs(L1))**2)-((deltapipi_pi - 1./12.*taupipi_pi)*(lambdaPipi_Pi + cs2 - 1./12.*taupipi_pi)*(L3+abs(L1))**2)\n",
    "s6 = ((4./3./C_eta + (2./3.*lambdapiPi_pi + deltaPiPi_Pi + cs2)*Pi \n",
    "      - (deltapipi_pi + 1./3.*taupipi_pi - lambdaPipi_Pi + cs2)*abs(L1) + zeta_r + cs2)\n",
    "    -((((1. + Pi + L2)*(1. + Pi + L3))/(3*(1. + Pi - abs(L1))**2))\n",
    "      *(1. + 1./2./C_eta +(1. + lambdapiPi_pi)*Pi - abs(L1) + taupipi_pi*L3)))\n",
    "\n",
    "\n",
    "alpha_value = 0.5\n",
    "plt.figure()\n",
    "plt.hist(n1, 20, alpha = alpha_value, label=r'n1')\n",
    "plt.hist(n2, 20, alpha = alpha_value, label=r'n2')\n",
    "plt.hist(n3_3, 20, alpha = alpha_value, label=r'n3')\n",
    "plt.hist(n4_1, 20, alpha = alpha_value, label=r'$n4_1$')\n",
    "plt.hist(n4_2, 20, alpha = alpha_value, label=r'$n4_2$')\n",
    "plt.hist(n4_3, 20, alpha = alpha_value, label=r'$n4_3$')\n",
    "plt.hist(n4_4, 20, alpha = alpha_value, label=r'$n4_4$')\n",
    "plt.hist(n4_5, 20, alpha = alpha_value, label=r'$n4_5$')\n",
    "plt.hist(n4_6, 20, alpha = alpha_value, label=r'$n4_6$')\n",
    "plt.hist(n5_1, 20, alpha = alpha_value, label=r'$n5_1$')\n",
    "plt.hist(n6_3, 20, alpha = alpha_value, label=r'$n6_3$')\n",
    "plt.yscale('log')\n",
    "plt.legend(loc=0);\n",
    "\n",
    "#violating cells\n",
    "idx_acausal = ((n1 < 0) | (n2 < 0) |(n3_3 < 0) | (n4_1 < 0) | (n4_2 < 0) | (n4_3 < 0) | (n5_1 < 0) | (n6_3 < 0)) \n",
    "idx_causal = ((n1 > 0) & (n2 > 0) & (n3_3 > 0) & (n4_1 > 0) & (n4_2 > 0) & (n4_3 > 0) & (n5_1 > 0) & (n6_3 > 0)) \n",
    "plt.figure()\n",
    "plt.scatter(Pi[idx_acausal], sqrt(L1[idx_acausal]**2. + L2[idx_acausal]**2. + L3[idx_acausal]**2.), marker=\"x\")\n",
    "plt.scatter(Pi[idx_causal], sqrt(L1[idx_causal]**2. + L2[idx_causal]**2. + L3[idx_causal]**2.), marker=\"+\")\n",
    "plt.xlim([-1.05, 1.05])\n",
    "plt.ylim([-0.05, 1.5])"
   ]
  },
  {
   "cell_type": "code",
   "execution_count": 51,
   "metadata": {},
   "outputs": [],
   "source": [
    "nx = 51\n",
    "x = np.linspace(-1, 1, nx)\n",
    "dx = x[1] - x[0]\n",
    "ny = 51\n",
    "y = np.linspace(0., 1.5, ny)\n",
    "dy = y[1] - y[0]\n",
    "X, Y = np.meshgrid(x, y)\n",
    "Z = zeros(X.shape)\n",
    "\n",
    "sigma = 0.05\n",
    "Ngrid_x = (int)(sigma/dx)+1\n",
    "Ngrid_y = (int)(sigma/dy)+1\n",
    "\n",
    "for i in range(len(Pi)):\n",
    "    status = ((n1[i] < 0) | (n2[i] < 0) |(n3_3[i] < 0) | (n4_1[i] < 0)\n",
    "              | (n4_2[i] < 0) | (n4_3[i] < 0) | (n5_1[i] < 0) | (n6_3[i] < 0))\n",
    "    status2 = ((s1[i] >= 0) & (s2[i] >= 0)  & (s3[i] >= 0) & (s4[i] >= 0)\n",
    "              & (s5[i] >= 0) & (s6[i] >= 0))\n",
    "    \n",
    "    xx = Pi[i]\n",
    "    yy = sqrt(L1[i]**2. + L2[i]**2. + L3[i]**2.)\n",
    "    idx_x = (int)((xx - (-1))/dx)\n",
    "    idx_y = (int)(yy/dy)\n",
    "    if idx_x >= 0 and idx_x < nx and idx_y >=0 and idx_y < ny:\n",
    "        idx_x_min = max(0, idx_x - Ngrid_x)\n",
    "        idx_x_max = min(nx, idx_x + Ngrid_x)\n",
    "        idx_y_min = max(0, idx_y - Ngrid_y)\n",
    "        idx_y_max = min(ny, idx_y + Ngrid_y)\n",
    "    else:\n",
    "        continue\n",
    "        \n",
    "    if status == True:  # acausal\n",
    "        for ix in range(idx_x_min, idx_x_max):\n",
    "            for iy in range(idx_y_min, idx_y_max):\n",
    "                if abs(Z[ix, iy]) < 1e-8:\n",
    "                    Z[ix, iy] = 5    # Acausal\n",
    "                if abs(Z[ix, iy] - 3) < 1e-8:\n",
    "                    Z[ix, iy] = 4    # Grey Zone\n",
    "    else:  # causal\n",
    "        for ix in range(idx_x_min, idx_x_max):\n",
    "            for iy in range(idx_y_min, idx_y_max):\n",
    "                if abs(Z[ix, iy]) < 1e-8:\n",
    "                    Z[ix, iy] = 3    # Causal\n",
    "                if abs(Z[ix, iy] - 5) < 1e-8:\n",
    "                    Z[ix, iy] = 4    # Grey Zone\n",
    "\n",
    "    if status2 == False:  #satisfy the sufficient condition\n",
    "        for ix in range(idx_x_min, idx_x_max):\n",
    "            for iy in range(idx_y_min, idx_y_max):\n",
    "                if abs(Z[ix, iy] - 1) < 1e-8:\n",
    "                    Z[ix, iy] = 2   # Absolute Causal            \n",
    "    else:  #satisfy the sufficient condition\n",
    "        for ix in range(idx_x_min, idx_x_max):\n",
    "            for iy in range(idx_y_min, idx_y_max):\n",
    "                if abs(Z[ix, iy] - 3) < 1e-8:\n",
    "                    Z[ix, iy] = 1   # Absolute Causal"
   ]
  },
  {
   "cell_type": "code",
   "execution_count": 52,
   "metadata": {},
   "outputs": [
    {
     "data": {
      "application/vnd.jupyter.widget-view+json": {
       "model_id": "77e6994b2c3d46deab03c43f7352dd06",
       "version_major": 2,
       "version_minor": 0
      },
      "text/plain": [
       "Canvas(toolbar=Toolbar(toolitems=[('Home', 'Reset original view', 'home', 'home'), ('Back', 'Back to previous …"
      ]
     },
     "metadata": {},
     "output_type": "display_data"
    }
   ],
   "source": [
    "plt.figure()   \n",
    "ax = plt.axes([0.12, 0.12, 0.83, 0.83])\n",
    "c = plt.contourf(X, Y, Z.transpose(), linspace(0, 5, 6), cmap=\"jet\")\n",
    "plt.fill_between([-2, -1.5], [0, 0], [1, 1], color='r', label=\"Acausal\")\n",
    "plt.fill_between([-2, -1.5], [0, 0], [1, 1], color='#F1C40F', label=\"Grey zone\")\n",
    "plt.fill_between([-2, -1.5], [0, 0], [1, 1], color='#58D68D', label=\"Necessary\")\n",
    "plt.fill_between([-2, -1.5], [0, 0], [1, 1], color='#5DADE2', label=\"In between\")\n",
    "plt.fill_between([-2, -1.5], [0, 0], [1, 1], color='b', label=\"Sufficient\")\n",
    "plt.legend(loc=0)\n",
    "plt.xlim([-1.0, 1.0])\n",
    "plt.ylim([0.0, 1.])\n",
    "plt.xticks(linspace(-1, 1, 5))\n",
    "plt.yticks(linspace(0, 1, 6))\n",
    "plt.xlabel(r\"$\\Pi/(e + P)$\")\n",
    "plt.ylabel(r\"$\\sqrt{\\pi^{\\mu\\nu} \\pi_{\\mu\\nu}}/(e + P)$\")\n",
    "plt.text(-0.95, 0.05, r\"(a)\")\n",
    "plt.text(-0.95, 0.9, r\"IS with strongly-coupled $\\tau_\\Pi$\")\n",
    "plt.savefig('off_strongly_coupled')"
   ]
  },
  {
   "cell_type": "code",
   "execution_count": 40,
   "metadata": {},
   "outputs": [
    {
     "name": "stderr",
     "output_type": "stream",
     "text": [
      "<ipython-input-40-737387364b82>:36: RuntimeWarning: divide by zero encountered in true_divide\n",
      "  ((deltapipi_pi - 1./12.*taupipi_pi)*(lambdaPipi_Pi + cs2 - 1./12.*taupipi_pi)\n",
      "<ipython-input-40-737387364b82>:42: RuntimeWarning: divide by zero encountered in true_divide\n",
      "  -((((1. + Pi + L2)*(1. + Pi + L3))/(3*(1. + Pi - abs(L1))**2))\n",
      "<ipython-input-40-737387364b82>:42: RuntimeWarning: invalid value encountered in true_divide\n",
      "  -((((1. + Pi + L2)*(1. + Pi + L3))/(3*(1. + Pi - abs(L1))**2))\n"
     ]
    },
    {
     "data": {
      "application/vnd.jupyter.widget-view+json": {
       "model_id": "440678ceed914edaa6e03b1c611a1867",
       "version_major": 2,
       "version_minor": 0
      },
      "text/plain": [
       "Canvas(toolbar=Toolbar(toolitems=[('Home', 'Reset original view', 'home', 'home'), ('Back', 'Back to previous …"
      ]
     },
     "metadata": {},
     "output_type": "display_data"
    },
    {
     "data": {
      "application/vnd.jupyter.widget-view+json": {
       "model_id": "e6c00726b4c54b268e8d678fcdc4bd4e",
       "version_major": 2,
       "version_minor": 0
      },
      "text/plain": [
       "Canvas(toolbar=Toolbar(toolitems=[('Home', 'Reset original view', 'home', 'home'), ('Back', 'Back to previous …"
      ]
     },
     "metadata": {},
     "output_type": "display_data"
    },
    {
     "data": {
      "text/plain": [
       "(-0.05, 1.5)"
      ]
     },
     "execution_count": 40,
     "metadata": {},
     "output_type": "execute_result"
    }
   ],
   "source": [
    "#on,strongly coupled\n",
    "\n",
    "C_eta = 5.\n",
    "zeta_r = (1./3.-cs2)/(2.-np.log(2))\n",
    "#zeta_r = 291./20.*(1./3.-cs2)**2\n",
    "#the choice of zeta_r is important\n",
    "taupipi_pi = 10./7.\n",
    "deltapipi_pi = 4./3. #necessary\n",
    "lambdapiPi_pi = 6./5.\n",
    "deltaPiPi_Pi = 2./3. #necessary\n",
    "lambdaPipi_Pi = 8./5.*(1./3.-cs2)\n",
    "\n",
    "n1 = 2./C_eta + lambdapiPi_pi*Pi - 1./2.*taupipi_pi*abs(L1)\n",
    "\n",
    "n2 = 1. - 1./C_eta + (1. - 1./2.*lambdapiPi_pi)*Pi - 1./4.*taupipi_pi*L3\n",
    "\n",
    "n3_3 = 1./C_eta + 1./2.*lambdapiPi_pi*Pi - 1./4.*taupipi_pi*L3\n",
    "\n",
    "n4_1 = 1. - 1./C_eta + (1. - lambdapiPi_pi/2.)*Pi + (1. - taupipi_pi/4.)*L1 - taupipi_pi/4.*L2\n",
    "n4_2 = 1. - 1./C_eta + (1. - lambdapiPi_pi/2.)*Pi + (1. - taupipi_pi/4.)*L1 - taupipi_pi/4.*L3\n",
    "n4_3 = 1. - 1./C_eta + (1. - lambdapiPi_pi/2.)*Pi + (1. - taupipi_pi/4.)*L2 - taupipi_pi/4.*L1\n",
    "n4_4 = 1. - 1./C_eta + (1. - lambdapiPi_pi/2.)*Pi + (1. - taupipi_pi/4.)*L2 - taupipi_pi/4.*L3\n",
    "n4_5 = 1. - 1./C_eta + (1. - lambdapiPi_pi/2.)*Pi + (1. - taupipi_pi/4.)*L3 - taupipi_pi/4.*L1\n",
    "n4_6 = 1. - 1./C_eta + (1. - lambdapiPi_pi/2.)*Pi + (1. - taupipi_pi/4.)*L3 - taupipi_pi/4.*L2\n",
    "\n",
    "n5_1 = (cs2 + 4./3.*1./C_eta + zeta_r + (2./3.*lambdapiPi_pi + deltaPiPi_Pi + cs2)*Pi\n",
    "        + (deltapipi_pi + 1./3.*taupipi_pi + lambdaPipi_Pi + cs2)*L1)\n",
    "\n",
    "n6_3 = (1. - cs2 - 4./3.*1./C_eta - zeta_r + (1. - 2./3.*lambdapiPi_pi - deltaPiPi_Pi - cs2)*Pi\n",
    "        + (1. - deltapipi_pi - 1./3.*taupipi_pi - lambdaPipi_Pi - cs2)*L3)\n",
    "\n",
    "s1 = 1. - 1./C_eta - abs(L1) + (1. - 1./2.*lambdapiPi_pi)*Pi - (1./2.*taupipi_pi)*L3\n",
    "s2 = 2./C_eta + lambdapiPi_pi*Pi - taupipi_pi*abs(L1)\n",
    "s3 = ((1. + Pi)*(1. - cs2))-(4./3.*1./C_eta + zeta_r + (2./3.*lambdapiPi_pi + deltaPiPi_Pi)*Pi \n",
    "                             + (deltapipi_pi + 1./3.*taupipi_pi + lambdaPipi_Pi + cs2)*L3 + abs(L1) + \n",
    "                             ((deltapipi_pi - 1./12.*taupipi_pi)*(lambdaPipi_Pi + cs2 - 1./12.*taupipi_pi)\n",
    "                             *(L3 + abs(L1))**2)/(1. - 1./C_eta + (1. - 1./2.*lambdapiPi_pi)*Pi - abs(L1) - 1./2.*taupipi_pi*L3))\n",
    "s4 = 1./3./C_eta + (1./6.*lambdapiPi_pi + deltaPiPi_Pi + cs2)*Pi + (1./6.*taupipi_pi - deltapipi_pi + lambdaPipi_Pi - cs2)*abs(L1) + zeta_r + cs2\n",
    "s5 = ((1./C_eta + 1./2.*lambdapiPi_pi*Pi - 1./2.*taupipi_pi*abs(L1))**2)-((deltapipi_pi - 1./12.*taupipi_pi)*(lambdaPipi_Pi + cs2 - 1./12.*taupipi_pi)*(L3+abs(L1))**2)\n",
    "s6 = ((4./3./C_eta + (2./3.*lambdapiPi_pi + deltaPiPi_Pi + cs2)*Pi \n",
    "      - (deltapipi_pi + 1./3.*taupipi_pi - lambdaPipi_Pi + cs2)*abs(L1) + zeta_r + cs2)\n",
    "    -((((1. + Pi + L2)*(1. + Pi + L3))/(3*(1. + Pi - abs(L1))**2))\n",
    "      *(1. + 1./2./C_eta +(1. + lambdapiPi_pi)*Pi - abs(L1) + taupipi_pi*L3)))\n",
    "\n",
    "alpha_value = 0.5\n",
    "plt.figure()\n",
    "plt.hist(n1, 20, alpha = alpha_value, label='n1')\n",
    "plt.hist(n2, 20, alpha = alpha_value, label='n2')\n",
    "plt.hist(n3_3, 20, alpha = alpha_value, label='n3')\n",
    "plt.hist(n4_1, 20, alpha = alpha_value, label='n4_1')\n",
    "plt.hist(n4_2, 20, alpha = alpha_value, label='n4_2')\n",
    "plt.hist(n4_3, 20, alpha = alpha_value, label='n4_3')\n",
    "plt.hist(n4_4, 20, alpha = alpha_value, label='n4_4')\n",
    "plt.hist(n4_5, 20, alpha = alpha_value, label='n4_5')\n",
    "plt.hist(n4_6, 20, alpha = alpha_value, label='n4_6')\n",
    "plt.hist(n5_1, 20, alpha = alpha_value, label='n5_1')\n",
    "plt.hist(n6_3, 20, alpha = alpha_value, label='n6_3')\n",
    "plt.yscale('log')\n",
    "plt.legend(loc=0);\n",
    "\n",
    "#violating cells\n",
    "idx_acausal = ((n1 < 0) | (n2 < 0) |(n3_3 < 0) | (n4_1 < 0) | (n4_2 < 0) | (n4_3 < 0) | (n5_1 < 0) | (n6_3 < 0)) \n",
    "idx_causal = ((n1 > 0) & (n2 > 0) & (n3_3 > 0) & (n4_1 > 0) & (n4_2 > 0) & (n4_3 > 0) & (n5_1 > 0) & (n6_3 > 0)) \n",
    "plt.figure()\n",
    "plt.scatter(Pi[idx_acausal], sqrt(L1[idx_acausal]**2. + L2[idx_acausal]**2. + L3[idx_acausal]**2.), marker=\"x\")\n",
    "plt.scatter(Pi[idx_causal], sqrt(L1[idx_causal]**2. + L2[idx_causal]**2. + L3[idx_causal]**2.), marker=\"+\")\n",
    "plt.xlim([-1.05, 1.05])\n",
    "plt.ylim([-0.05, 1.5])"
   ]
  },
  {
   "cell_type": "code",
   "execution_count": 41,
   "metadata": {},
   "outputs": [],
   "source": [
    "nx = 51\n",
    "x = np.linspace(-1, 1, nx)\n",
    "dx = x[1] - x[0]\n",
    "ny = 51\n",
    "y = np.linspace(0., 1.5, ny)\n",
    "dy = y[1] - y[0]\n",
    "X, Y = np.meshgrid(x, y)\n",
    "Z = zeros(X.shape)\n",
    "\n",
    "sigma = 0.05\n",
    "Ngrid_x = (int)(sigma/dx)+1\n",
    "Ngrid_y = (int)(sigma/dy)+1\n",
    "\n",
    "for i in range(len(Pi)):\n",
    "    status = ((n1[i] < 0) | (n2[i] < 0) |(n3_3[i] < 0) | (n4_1[i] < 0)\n",
    "              | (n4_2[i] < 0) | (n4_3[i] < 0) | (n5_1[i] < 0) | (n6_3[i] < 0))\n",
    "    status2 = ((s1[i] >= 0) & (s2[i] >= 0)  & (s3[i] >= 0) & (s4[i] >= 0)\n",
    "              & (s5[i] >= 0) & (s6[i] >= 0))\n",
    "    \n",
    "    xx = Pi[i]\n",
    "    yy = sqrt(L1[i]**2. + L2[i]**2. + L3[i]**2.)\n",
    "    idx_x = (int)((xx - (-1))/dx)\n",
    "    idx_y = (int)(yy/dy)\n",
    "    if idx_x >= 0 and idx_x < nx and idx_y >=0 and idx_y < ny:\n",
    "        idx_x_min = max(0, idx_x - Ngrid_x)\n",
    "        idx_x_max = min(nx, idx_x + Ngrid_x)\n",
    "        idx_y_min = max(0, idx_y - Ngrid_y)\n",
    "        idx_y_max = min(ny, idx_y + Ngrid_y)\n",
    "    else:\n",
    "        continue\n",
    "        \n",
    "    if status == True:  # acausal\n",
    "        for ix in range(idx_x_min, idx_x_max):\n",
    "            for iy in range(idx_y_min, idx_y_max):\n",
    "                if abs(Z[ix, iy]) < 1e-8:\n",
    "                    Z[ix, iy] = 5    # Acausal\n",
    "                if abs(Z[ix, iy] - 3) < 1e-8:\n",
    "                    Z[ix, iy] = 4    # Grey Zone\n",
    "    else:  # causal\n",
    "        for ix in range(idx_x_min, idx_x_max):\n",
    "            for iy in range(idx_y_min, idx_y_max):\n",
    "                if abs(Z[ix, iy]) < 1e-8:\n",
    "                    Z[ix, iy] = 3    # Causal\n",
    "                if abs(Z[ix, iy] - 5) < 1e-8:\n",
    "                    Z[ix, iy] = 4    # Grey Zone\n",
    "\n",
    "    if status2 == False:  #satisfy the sufficient condition\n",
    "        for ix in range(idx_x_min, idx_x_max):\n",
    "            for iy in range(idx_y_min, idx_y_max):\n",
    "                if abs(Z[ix, iy] - 1) < 1e-8:\n",
    "                    Z[ix, iy] = 2   # Absolute Causal            \n",
    "    else:  #satisfy the sufficient condition\n",
    "        for ix in range(idx_x_min, idx_x_max):\n",
    "            for iy in range(idx_y_min, idx_y_max):\n",
    "                if abs(Z[ix, iy] - 3) < 1e-8:\n",
    "                    Z[ix, iy] = 1   # Absolute Causal"
   ]
  },
  {
   "cell_type": "code",
   "execution_count": 43,
   "metadata": {},
   "outputs": [
    {
     "data": {
      "application/vnd.jupyter.widget-view+json": {
       "model_id": "40506a30342446a9a4659de7a73c9bf1",
       "version_major": 2,
       "version_minor": 0
      },
      "text/plain": [
       "Canvas(toolbar=Toolbar(toolitems=[('Home', 'Reset original view', 'home', 'home'), ('Back', 'Back to previous …"
      ]
     },
     "metadata": {},
     "output_type": "display_data"
    }
   ],
   "source": [
    "plt.figure()   \n",
    "ax = plt.axes([0.12, 0.12, 0.83, 0.83])\n",
    "c = plt.contourf(X, Y, Z.transpose(), linspace(0, 5, 6), cmap=\"jet\")\n",
    "plt.fill_between([-2, -1.5], [0, 0], [1, 1], color='r', label=\"Acausal\")\n",
    "plt.fill_between([-2, -1.5], [0, 0], [1, 1], color='#F1C40F', label=\"Grey zone\")\n",
    "plt.fill_between([-2, -1.5], [0, 0], [1, 1], color='#58D68D', label=\"Necessary\")\n",
    "plt.fill_between([-2, -1.5], [0, 0], [1, 1], color='#5DADE2', label=\"In between\")\n",
    "plt.fill_between([-2, -1.5], [0, 0], [1, 1], color='b', label=\"Sufficient\")\n",
    "plt.legend(loc=0)\n",
    "plt.xlim([-1.0, 1.0])\n",
    "plt.ylim([0.0, 1.])\n",
    "plt.xticks(linspace(-1, 1, 5))\n",
    "plt.yticks(linspace(0, 1, 6))\n",
    "plt.xlabel(r\"$\\Pi/(e + P)$\")\n",
    "plt.ylabel(r\"$\\sqrt{\\pi^{\\mu\\nu} \\pi_{\\mu\\nu}}/(e + P)$\")\n",
    "plt.text(-0.95, 0.05, r\"(b)\")\n",
    "plt.text(-0.95, 0.9, r\"DNMR with strongly-coupled $\\tau_\\Pi$\")\n",
    "plt.savefig('on_strongly_coupled')"
   ]
  },
  {
   "cell_type": "code",
   "execution_count": 44,
   "metadata": {},
   "outputs": [
    {
     "name": "stderr",
     "output_type": "stream",
     "text": [
      "<ipython-input-44-2aba8c6cc166>:36: RuntimeWarning: divide by zero encountered in true_divide\n",
      "  ((deltapipi_pi - 1./12.*taupipi_pi)*(lambdaPipi_Pi + cs2 - 1./12.*taupipi_pi)\n",
      "<ipython-input-44-2aba8c6cc166>:36: RuntimeWarning: invalid value encountered in true_divide\n",
      "  ((deltapipi_pi - 1./12.*taupipi_pi)*(lambdaPipi_Pi + cs2 - 1./12.*taupipi_pi)\n",
      "<ipython-input-44-2aba8c6cc166>:42: RuntimeWarning: divide by zero encountered in true_divide\n",
      "  -((((1. + Pi + L2)*(1. + Pi + L3))/(3*(1. + Pi - abs(L1))**2))\n",
      "<ipython-input-44-2aba8c6cc166>:42: RuntimeWarning: invalid value encountered in true_divide\n",
      "  -((((1. + Pi + L2)*(1. + Pi + L3))/(3*(1. + Pi - abs(L1))**2))\n"
     ]
    },
    {
     "data": {
      "application/vnd.jupyter.widget-view+json": {
       "model_id": "3bfe5f2200144d26848defc0f685e79b",
       "version_major": 2,
       "version_minor": 0
      },
      "text/plain": [
       "Canvas(toolbar=Toolbar(toolitems=[('Home', 'Reset original view', 'home', 'home'), ('Back', 'Back to previous …"
      ]
     },
     "metadata": {},
     "output_type": "display_data"
    },
    {
     "data": {
      "application/vnd.jupyter.widget-view+json": {
       "model_id": "b05bb37874e8407fac077219ea83ffec",
       "version_major": 2,
       "version_minor": 0
      },
      "text/plain": [
       "Canvas(toolbar=Toolbar(toolitems=[('Home', 'Reset original view', 'home', 'home'), ('Back', 'Back to previous …"
      ]
     },
     "metadata": {},
     "output_type": "display_data"
    },
    {
     "data": {
      "text/plain": [
       "(-0.05, 1.5)"
      ]
     },
     "execution_count": 44,
     "metadata": {},
     "output_type": "execute_result"
    }
   ],
   "source": [
    "#off,transport\n",
    "\n",
    "C_eta = 5.\n",
    "#zeta_r = (1./3.-cs2)/(2.-np.log(2))\n",
    "zeta_r = 291./20.*(1./3.-cs2)**2\n",
    "#the choice of zeta_r is important\n",
    "taupipi_pi = 10./7.*0\n",
    "deltapipi_pi = 4./3. #necessary\n",
    "lambdapiPi_pi = 6./5.*0\n",
    "deltaPiPi_Pi = 2./3. #necessary\n",
    "lambdaPipi_Pi = 8./5.*(1./3.-cs2)*0\n",
    "\n",
    "n1 = 2./C_eta + lambdapiPi_pi*Pi - 1./2.*taupipi_pi*abs(L1)\n",
    "\n",
    "n2 = 1. - 1./C_eta + (1. - 1./2.*lambdapiPi_pi)*Pi - 1./4.*taupipi_pi*L3\n",
    "\n",
    "n3_3 = 1./C_eta + 1./2.*lambdapiPi_pi*Pi - 1./4.*taupipi_pi*L3\n",
    "\n",
    "n4_1 = 1. - 1./C_eta + (1. - lambdapiPi_pi/2.)*Pi + (1. - taupipi_pi/4.)*L1 - taupipi_pi/4.*L2\n",
    "n4_2 = 1. - 1./C_eta + (1. - lambdapiPi_pi/2.)*Pi + (1. - taupipi_pi/4.)*L1 - taupipi_pi/4.*L3\n",
    "n4_3 = 1. - 1./C_eta + (1. - lambdapiPi_pi/2.)*Pi + (1. - taupipi_pi/4.)*L2 - taupipi_pi/4.*L1\n",
    "n4_4 = 1. - 1./C_eta + (1. - lambdapiPi_pi/2.)*Pi + (1. - taupipi_pi/4.)*L2 - taupipi_pi/4.*L3\n",
    "n4_5 = 1. - 1./C_eta + (1. - lambdapiPi_pi/2.)*Pi + (1. - taupipi_pi/4.)*L3 - taupipi_pi/4.*L1\n",
    "n4_6 = 1. - 1./C_eta + (1. - lambdapiPi_pi/2.)*Pi + (1. - taupipi_pi/4.)*L3 - taupipi_pi/4.*L2\n",
    "\n",
    "n5_1 = (cs2 + 4./3.*1./C_eta + zeta_r + (2./3.*lambdapiPi_pi + deltaPiPi_Pi + cs2)*Pi\n",
    "        + (deltapipi_pi + 1./3.*taupipi_pi + lambdaPipi_Pi + cs2)*L1)\n",
    "\n",
    "n6_3 = (1. - cs2 - 4./3.*1./C_eta - zeta_r + (1. - 2./3.*lambdapiPi_pi - deltaPiPi_Pi - cs2)*Pi\n",
    "        + (1. - deltapipi_pi - 1./3.*taupipi_pi - lambdaPipi_Pi - cs2)*L3)\n",
    "\n",
    "s1 = 1. - 1./C_eta - abs(L1) + (1. - 1./2.*lambdapiPi_pi)*Pi - (1./2.*taupipi_pi)*L3\n",
    "s2 = 2./C_eta + lambdapiPi_pi*Pi - taupipi_pi*abs(L1)\n",
    "s3 = ((1. + Pi)*(1. - cs2))-(4./3.*1./C_eta + zeta_r + (2./3.*lambdapiPi_pi + deltaPiPi_Pi)*Pi \n",
    "                             + (deltapipi_pi + 1./3.*taupipi_pi + lambdaPipi_Pi + cs2)*L3 + abs(L1) + \n",
    "                             ((deltapipi_pi - 1./12.*taupipi_pi)*(lambdaPipi_Pi + cs2 - 1./12.*taupipi_pi)\n",
    "                             *(L3 + abs(L1))**2)/(1. - 1./C_eta + (1. - 1./2.*lambdapiPi_pi)*Pi - abs(L1) - 1./2.*taupipi_pi*L3))\n",
    "s4 = 1./3./C_eta + (1./6.*lambdapiPi_pi + deltaPiPi_Pi + cs2)*Pi + (1./6.*taupipi_pi - deltapipi_pi + lambdaPipi_Pi - cs2)*abs(L1) + zeta_r + cs2\n",
    "s5 = ((1./C_eta + 1./2.*lambdapiPi_pi*Pi - 1./2.*taupipi_pi*abs(L1))**2)-((deltapipi_pi - 1./12.*taupipi_pi)*(lambdaPipi_Pi + cs2 - 1./12.*taupipi_pi)*(L3+abs(L1))**2)\n",
    "s6 = ((4./3./C_eta + (2./3.*lambdapiPi_pi + deltaPiPi_Pi + cs2)*Pi \n",
    "      - (deltapipi_pi + 1./3.*taupipi_pi - lambdaPipi_Pi + cs2)*abs(L1) + zeta_r + cs2)\n",
    "    -((((1. + Pi + L2)*(1. + Pi + L3))/(3*(1. + Pi - abs(L1))**2))\n",
    "      *(1. + 1./2./C_eta +(1. + lambdapiPi_pi)*Pi - abs(L1) + taupipi_pi*L3)))\n",
    "\n",
    "alpha_value = 0.5\n",
    "plt.figure()\n",
    "plt.hist(n1, 20, alpha = alpha_value, label='n1')\n",
    "plt.hist(n2, 20, alpha = alpha_value, label='n2')\n",
    "plt.hist(n3_3, 20, alpha = alpha_value, label='n3')\n",
    "plt.hist(n4_1, 20, alpha = alpha_value, label='n4_1')\n",
    "plt.hist(n4_2, 20, alpha = alpha_value, label='n4_2')\n",
    "plt.hist(n4_3, 20, alpha = alpha_value, label='n4_3')\n",
    "plt.hist(n4_4, 20, alpha = alpha_value, label='n4_4')\n",
    "plt.hist(n4_5, 20, alpha = alpha_value, label='n4_5')\n",
    "plt.hist(n4_6, 20, alpha = alpha_value, label='n4_6')\n",
    "plt.hist(n5_1, 20, alpha = alpha_value, label='n5_1')\n",
    "plt.hist(n6_3, 20, alpha = alpha_value, label='n6_3')\n",
    "plt.yscale('log')\n",
    "plt.legend(loc=0);\n",
    "\n",
    "#violating cells\n",
    "idx_acausal = ((n1 < 0) | (n2 < 0) |(n3_3 < 0) | (n4_1 < 0) | (n4_2 < 0) | (n4_3 < 0) | (n5_1 < 0) | (n6_3 < 0)) \n",
    "idx_causal = ((n1 > 0) & (n2 > 0) & (n3_3 > 0) & (n4_1 > 0) & (n4_2 > 0) & (n4_3 > 0) & (n5_1 > 0) & (n6_3 > 0)) \n",
    "plt.figure()\n",
    "plt.scatter(Pi[idx_acausal] , sqrt(L1[idx_acausal]**2. + L2[idx_acausal]**2. + L3[idx_acausal]**2.) , marker=\"x\")\n",
    "plt.scatter(Pi[idx_causal], sqrt(L1[idx_causal]**2. + L2[idx_causal]**2. + L3[idx_causal]**2.) , marker=\"+\")\n",
    "plt.xlim([-1.05, 1.05])\n",
    "plt.ylim([-0.05, 1.5])"
   ]
  },
  {
   "cell_type": "code",
   "execution_count": 45,
   "metadata": {},
   "outputs": [],
   "source": [
    "nx = 51\n",
    "x = np.linspace(-1, 1, nx)\n",
    "dx = x[1] - x[0]\n",
    "ny = 51\n",
    "y = np.linspace(0., 1.5, ny)\n",
    "dy = y[1] - y[0]\n",
    "X, Y = np.meshgrid(x, y)\n",
    "Z = zeros(X.shape)\n",
    "\n",
    "sigma = 0.05\n",
    "Ngrid_x = (int)(sigma/dx)+1\n",
    "Ngrid_y = (int)(sigma/dy)+1\n",
    "\n",
    "for i in range(len(Pi)):\n",
    "    status = ((n1[i] < 0) | (n2[i] < 0) |(n3_3[i] < 0) | (n4_1[i] < 0)\n",
    "              | (n4_2[i] < 0) | (n4_3[i] < 0) | (n5_1[i] < 0) | (n6_3[i] < 0))\n",
    "    status2 = ((s1[i] >= 0) & (s2[i] >= 0)  & (s3[i] >= 0) & (s4[i] >= 0)\n",
    "              & (s5[i] >= 0) & (s6[i] >= 0))\n",
    "    \n",
    "    xx = Pi[i]\n",
    "    yy = sqrt(L1[i]**2. + L2[i]**2. + L3[i]**2.)\n",
    "    idx_x = (int)((xx - (-1))/dx)\n",
    "    idx_y = (int)(yy/dy)\n",
    "    if idx_x >= 0 and idx_x < nx and idx_y >=0 and idx_y < ny:\n",
    "        idx_x_min = max(0, idx_x - Ngrid_x)\n",
    "        idx_x_max = min(nx, idx_x + Ngrid_x)\n",
    "        idx_y_min = max(0, idx_y - Ngrid_y)\n",
    "        idx_y_max = min(ny, idx_y + Ngrid_y)\n",
    "    else:\n",
    "        continue\n",
    "        \n",
    "    if status == True:  # acausal\n",
    "        for ix in range(idx_x_min, idx_x_max):\n",
    "            for iy in range(idx_y_min, idx_y_max):\n",
    "                if abs(Z[ix, iy]) < 1e-8:\n",
    "                    Z[ix, iy] = 5    # Acausal\n",
    "                if abs(Z[ix, iy] - 3) < 1e-8:\n",
    "                    Z[ix, iy] = 4    # Grey Zone\n",
    "    else:  # causal\n",
    "        for ix in range(idx_x_min, idx_x_max):\n",
    "            for iy in range(idx_y_min, idx_y_max):\n",
    "                if abs(Z[ix, iy]) < 1e-8:\n",
    "                    Z[ix, iy] = 3    # Causal\n",
    "                if abs(Z[ix, iy] - 5) < 1e-8:\n",
    "                    Z[ix, iy] = 4    # Grey Zone\n",
    "\n",
    "    if status2 == False:  #satisfy the sufficient condition\n",
    "        for ix in range(idx_x_min, idx_x_max):\n",
    "            for iy in range(idx_y_min, idx_y_max):\n",
    "                if abs(Z[ix, iy] - 1) < 1e-8:\n",
    "                    Z[ix, iy] = 2   # Absolute Causal            \n",
    "    else:  #satisfy the sufficient condition\n",
    "        for ix in range(idx_x_min, idx_x_max):\n",
    "            for iy in range(idx_y_min, idx_y_max):\n",
    "                if abs(Z[ix, iy] - 3) < 1e-8:\n",
    "                    Z[ix, iy] = 1   # Absolute Causal"
   ]
  },
  {
   "cell_type": "code",
   "execution_count": 46,
   "metadata": {},
   "outputs": [
    {
     "data": {
      "application/vnd.jupyter.widget-view+json": {
       "model_id": "ae0108cb278d4d20a16a8d28a8cf78ac",
       "version_major": 2,
       "version_minor": 0
      },
      "text/plain": [
       "Canvas(toolbar=Toolbar(toolitems=[('Home', 'Reset original view', 'home', 'home'), ('Back', 'Back to previous …"
      ]
     },
     "metadata": {},
     "output_type": "display_data"
    }
   ],
   "source": [
    "plt.figure()   \n",
    "ax = plt.axes([0.12, 0.12, 0.83, 0.83])\n",
    "c = plt.contourf(X, Y, Z.transpose(), linspace(0, 5, 6), cmap=\"jet\")\n",
    "plt.fill_between([-2, -1.5], [0, 0], [1, 1], color='r', label=\"Acausal\")\n",
    "plt.fill_between([-2, -1.5], [0, 0], [1, 1], color='#F1C40F', label=\"Grey zone\")\n",
    "plt.fill_between([-2, -1.5], [0, 0], [1, 1], color='#58D68D', label=\"Necessary\")\n",
    "plt.fill_between([-2, -1.5], [0, 0], [1, 1], color='#5DADE2', label=\"In between\")\n",
    "plt.fill_between([-2, -1.5], [0, 0], [1, 1], color='b', label=\"Sufficient\")\n",
    "plt.legend(loc=0)\n",
    "plt.xlim([-1.0, 1.0])\n",
    "plt.ylim([0.0, 1.])\n",
    "plt.xticks(linspace(-1, 1, 5))\n",
    "plt.yticks(linspace(0, 1, 6))\n",
    "plt.xlabel(r\"$\\Pi/(e + P)$\")\n",
    "plt.ylabel(r\"$\\sqrt{\\pi^{\\mu\\nu} \\pi_{\\mu\\nu}}/(e + P)$\")\n",
    "plt.text(-0.95, 0.05, r\"(c)\")\n",
    "plt.text(-0.95, 0.9, r\"IS with 14-moment $\\tau_\\Pi$\")\n",
    "plt.savefig('off_transport')"
   ]
  },
  {
   "cell_type": "code",
   "execution_count": 47,
   "metadata": {},
   "outputs": [
    {
     "name": "stderr",
     "output_type": "stream",
     "text": [
      "<ipython-input-47-a3bb6e757846>:36: RuntimeWarning: divide by zero encountered in true_divide\n",
      "  ((deltapipi_pi - 1./12.*taupipi_pi)*(lambdaPipi_Pi + cs2 - 1./12.*taupipi_pi)\n",
      "<ipython-input-47-a3bb6e757846>:42: RuntimeWarning: divide by zero encountered in true_divide\n",
      "  -((((1. + Pi + L2)*(1. + Pi + L3))/(3*(1. + Pi - abs(L1))**2))\n",
      "<ipython-input-47-a3bb6e757846>:42: RuntimeWarning: invalid value encountered in true_divide\n",
      "  -((((1. + Pi + L2)*(1. + Pi + L3))/(3*(1. + Pi - abs(L1))**2))\n"
     ]
    },
    {
     "data": {
      "application/vnd.jupyter.widget-view+json": {
       "model_id": "0158c98fa989407a90ea8169fdfe2ccd",
       "version_major": 2,
       "version_minor": 0
      },
      "text/plain": [
       "Canvas(toolbar=Toolbar(toolitems=[('Home', 'Reset original view', 'home', 'home'), ('Back', 'Back to previous …"
      ]
     },
     "metadata": {},
     "output_type": "display_data"
    },
    {
     "data": {
      "application/vnd.jupyter.widget-view+json": {
       "model_id": "9cf4f45d7fde4aae8071c3ec66a6a271",
       "version_major": 2,
       "version_minor": 0
      },
      "text/plain": [
       "Canvas(toolbar=Toolbar(toolitems=[('Home', 'Reset original view', 'home', 'home'), ('Back', 'Back to previous …"
      ]
     },
     "metadata": {},
     "output_type": "display_data"
    },
    {
     "data": {
      "text/plain": [
       "(-0.05, 1.5)"
      ]
     },
     "execution_count": 47,
     "metadata": {},
     "output_type": "execute_result"
    }
   ],
   "source": [
    "#on,transport\n",
    "\n",
    "C_eta = 5.\n",
    "#zeta_r = (1./3.-cs2)/(2.-np.log(2))\n",
    "zeta_r = 291./20.*(1./3.-cs2)**2\n",
    "#the choice of zeta_r is important\n",
    "taupipi_pi = 10./7.\n",
    "deltapipi_pi = 4./3. #necessary\n",
    "lambdapiPi_pi = 6./5.\n",
    "deltaPiPi_Pi = 2./3. #necessary\n",
    "lambdaPipi_Pi = 8./5.*(1./3.-cs2)\n",
    "\n",
    "n1 = 2./C_eta + lambdapiPi_pi*Pi - 1./2.*taupipi_pi*abs(L1)\n",
    "\n",
    "n2 = 1. - 1./C_eta + (1. - 1./2.*lambdapiPi_pi)*Pi - 1./4.*taupipi_pi*L3\n",
    "\n",
    "n3_3 = 1./C_eta + 1./2.*lambdapiPi_pi*Pi - 1./4.*taupipi_pi*L3\n",
    "\n",
    "n4_1 = 1. - 1./C_eta + (1. - lambdapiPi_pi/2.)*Pi + (1. - taupipi_pi/4.)*L1 - taupipi_pi/4.*L2\n",
    "n4_2 = 1. - 1./C_eta + (1. - lambdapiPi_pi/2.)*Pi + (1. - taupipi_pi/4.)*L1 - taupipi_pi/4.*L3\n",
    "n4_3 = 1. - 1./C_eta + (1. - lambdapiPi_pi/2.)*Pi + (1. - taupipi_pi/4.)*L2 - taupipi_pi/4.*L1\n",
    "n4_4 = 1. - 1./C_eta + (1. - lambdapiPi_pi/2.)*Pi + (1. - taupipi_pi/4.)*L2 - taupipi_pi/4.*L3\n",
    "n4_5 = 1. - 1./C_eta + (1. - lambdapiPi_pi/2.)*Pi + (1. - taupipi_pi/4.)*L3 - taupipi_pi/4.*L1\n",
    "n4_6 = 1. - 1./C_eta + (1. - lambdapiPi_pi/2.)*Pi + (1. - taupipi_pi/4.)*L3 - taupipi_pi/4.*L2\n",
    "\n",
    "n5_1 = (cs2 + 4./3.*1./C_eta + zeta_r + (2./3.*lambdapiPi_pi + deltaPiPi_Pi + cs2)*Pi\n",
    "        + (deltapipi_pi + 1./3.*taupipi_pi + lambdaPipi_Pi + cs2)*L1)\n",
    "\n",
    "n6_3 = (1. - cs2 - 4./3.*1./C_eta - zeta_r + (1. - 2./3.*lambdapiPi_pi - deltaPiPi_Pi - cs2)*Pi\n",
    "        + (1. - deltapipi_pi - 1./3.*taupipi_pi - lambdaPipi_Pi - cs2)*L3)\n",
    "\n",
    "s1 = 1. - 1./C_eta - abs(L1) + (1. - 1./2.*lambdapiPi_pi)*Pi - (1./2.*taupipi_pi)*L3\n",
    "s2 = 2./C_eta + lambdapiPi_pi*Pi - taupipi_pi*abs(L1)\n",
    "s3 = ((1. + Pi)*(1. - cs2))-(4./3.*1./C_eta + zeta_r + (2./3.*lambdapiPi_pi + deltaPiPi_Pi)*Pi \n",
    "                             + (deltapipi_pi + 1./3.*taupipi_pi + lambdaPipi_Pi + cs2)*L3 + abs(L1) + \n",
    "                             ((deltapipi_pi - 1./12.*taupipi_pi)*(lambdaPipi_Pi + cs2 - 1./12.*taupipi_pi)\n",
    "                             *(L3 + abs(L1))**2)/(1. - 1./C_eta + (1. - 1./2.*lambdapiPi_pi)*Pi - abs(L1) - 1./2.*taupipi_pi*L3))\n",
    "s4 = 1./3./C_eta + (1./6.*lambdapiPi_pi + deltaPiPi_Pi + cs2)*Pi + (1./6.*taupipi_pi - deltapipi_pi + lambdaPipi_Pi - cs2)*abs(L1) + zeta_r + cs2\n",
    "s5 = ((1./C_eta + 1./2.*lambdapiPi_pi*Pi - 1./2.*taupipi_pi*abs(L1))**2)-((deltapipi_pi - 1./12.*taupipi_pi)*(lambdaPipi_Pi + cs2 - 1./12.*taupipi_pi)*(L3+abs(L1))**2)\n",
    "s6 = ((4./3./C_eta + (2./3.*lambdapiPi_pi + deltaPiPi_Pi + cs2)*Pi \n",
    "      - (deltapipi_pi + 1./3.*taupipi_pi - lambdaPipi_Pi + cs2)*abs(L1) + zeta_r + cs2)\n",
    "    -((((1. + Pi + L2)*(1. + Pi + L3))/(3*(1. + Pi - abs(L1))**2))\n",
    "      *(1. + 1./2./C_eta +(1. + lambdapiPi_pi)*Pi - abs(L1) + taupipi_pi*L3)))\n",
    "\n",
    "alpha_value = 0.5\n",
    "plt.figure()\n",
    "plt.hist(n1, 20, alpha = alpha_value, label='n1')\n",
    "plt.hist(n2, 20, alpha = alpha_value, label='n2')\n",
    "plt.hist(n3_3, 20, alpha = alpha_value, label='n3')\n",
    "plt.hist(n4_1, 20, alpha = alpha_value, label='n4_1')\n",
    "plt.hist(n4_2, 20, alpha = alpha_value, label='n4_2')\n",
    "plt.hist(n4_3, 20, alpha = alpha_value, label='n4_3')\n",
    "plt.hist(n4_4, 20, alpha = alpha_value, label='n4_4')\n",
    "plt.hist(n4_5, 20, alpha = alpha_value, label='n4_5')\n",
    "plt.hist(n4_6, 20, alpha = alpha_value, label='n4_6')\n",
    "plt.hist(n5_1, 20, alpha = alpha_value, label='n5_1')\n",
    "plt.hist(n6_3, 20, alpha = alpha_value, label='n6_3')\n",
    "plt.yscale('log')\n",
    "plt.legend(loc=0);\n",
    "\n",
    "#violating cells\n",
    "idx_acausal = ((n1 < 0) | (n2 < 0) |(n3_3 < 0) | (n4_1 < 0) | (n4_2 < 0) | (n4_3 < 0) | (n5_1 < 0) | (n6_3 < 0)) \n",
    "idx_causal = ((n1 > 0) & (n2 > 0) & (n3_3 > 0) & (n4_1 > 0) & (n4_2 > 0) & (n4_3 > 0) & (n5_1 > 0) & (n6_3 > 0)) \n",
    "plt.figure()\n",
    "plt.scatter(Pi[idx_acausal], sqrt(L1[idx_acausal]**2. + L2[idx_acausal]**2. + L3[idx_acausal]**2.), marker=\"x\")\n",
    "plt.scatter(Pi[idx_causal], sqrt(L1[idx_causal]**2. + L2[idx_causal]**2. + L3[idx_causal]**2.), marker=\"+\")\n",
    "plt.xlim([-1.05, 1.05])\n",
    "plt.ylim([-0.05, 1.5])\n"
   ]
  },
  {
   "cell_type": "code",
   "execution_count": 48,
   "metadata": {},
   "outputs": [],
   "source": [
    "nx = 51\n",
    "x = np.linspace(-1, 1, nx)\n",
    "dx = x[1] - x[0]\n",
    "ny = 51\n",
    "y = np.linspace(0., 1.5, ny)\n",
    "dy = y[1] - y[0]\n",
    "X, Y = np.meshgrid(x, y)\n",
    "Z = zeros(X.shape)\n",
    "\n",
    "sigma = 0.05\n",
    "Ngrid_x = (int)(sigma/dx)+1\n",
    "Ngrid_y = (int)(sigma/dy)+1\n",
    "\n",
    "for i in range(len(Pi)):\n",
    "    status = ((n1[i] < 0) | (n2[i] < 0) |(n3_3[i] < 0) | (n4_1[i] < 0)\n",
    "              | (n4_2[i] < 0) | (n4_3[i] < 0) | (n5_1[i] < 0) | (n6_3[i] < 0))\n",
    "    status2 = ((s1[i] >= 0) & (s2[i] >= 0)  & (s3[i] >= 0) & (s4[i] >= 0)\n",
    "              & (s5[i] >= 0) & (s6[i] >= 0))\n",
    "    \n",
    "    xx = Pi[i]\n",
    "    yy = sqrt(L1[i]**2. + L2[i]**2. + L3[i]**2.)\n",
    "    idx_x = (int)((xx - (-1))/dx)\n",
    "    idx_y = (int)(yy/dy)\n",
    "    if idx_x >= 0 and idx_x < nx and idx_y >=0 and idx_y < ny:\n",
    "        idx_x_min = max(0, idx_x - Ngrid_x)\n",
    "        idx_x_max = min(nx, idx_x + Ngrid_x)\n",
    "        idx_y_min = max(0, idx_y - Ngrid_y)\n",
    "        idx_y_max = min(ny, idx_y + Ngrid_y)\n",
    "    else:\n",
    "        continue\n",
    "        \n",
    "    if status == True:  # acausal\n",
    "        for ix in range(idx_x_min, idx_x_max):\n",
    "            for iy in range(idx_y_min, idx_y_max):\n",
    "                if abs(Z[ix, iy]) < 1e-8:\n",
    "                    Z[ix, iy] = 5    # Acausal\n",
    "                if abs(Z[ix, iy] - 3) < 1e-8:\n",
    "                    Z[ix, iy] = 4    # Grey Zone\n",
    "    else:  # causal\n",
    "        for ix in range(idx_x_min, idx_x_max):\n",
    "            for iy in range(idx_y_min, idx_y_max):\n",
    "                if abs(Z[ix, iy]) < 1e-8:\n",
    "                    Z[ix, iy] = 3    # Causal\n",
    "                if abs(Z[ix, iy] - 5) < 1e-8:\n",
    "                    Z[ix, iy] = 4    # Grey Zone\n",
    "\n",
    "    if status2 == False:  #satisfy the sufficient condition\n",
    "        for ix in range(idx_x_min, idx_x_max):\n",
    "            for iy in range(idx_y_min, idx_y_max):\n",
    "                if abs(Z[ix, iy] - 1) < 1e-8:\n",
    "                    Z[ix, iy] = 2   # Absolute Causal            \n",
    "    else:  #satisfy the sufficient condition\n",
    "        for ix in range(idx_x_min, idx_x_max):\n",
    "            for iy in range(idx_y_min, idx_y_max):\n",
    "                if abs(Z[ix, iy] - 3) < 1e-8:\n",
    "                    Z[ix, iy] = 1   # Absolute Causal"
   ]
  },
  {
   "cell_type": "code",
   "execution_count": 49,
   "metadata": {},
   "outputs": [
    {
     "data": {
      "application/vnd.jupyter.widget-view+json": {
       "model_id": "fa625219ddeb432da092b4bc79092033",
       "version_major": 2,
       "version_minor": 0
      },
      "text/plain": [
       "Canvas(toolbar=Toolbar(toolitems=[('Home', 'Reset original view', 'home', 'home'), ('Back', 'Back to previous …"
      ]
     },
     "metadata": {},
     "output_type": "display_data"
    }
   ],
   "source": [
    "plt.figure()   \n",
    "ax = plt.axes([0.12, 0.12, 0.83, 0.83])\n",
    "c = plt.contourf(X, Y, Z.transpose(), linspace(0, 5, 6), cmap=\"jet\")\n",
    "plt.fill_between([-2, -1.5], [0, 0], [1, 1], color='r', label=\"Acausal\")\n",
    "plt.fill_between([-2, -1.5], [0, 0], [1, 1], color='#F1C40F', label=\"Grey zone\")\n",
    "plt.fill_between([-2, -1.5], [0, 0], [1, 1], color='#58D68D', label=\"Necessary\")\n",
    "plt.fill_between([-2, -1.5], [0, 0], [1, 1], color='#5DADE2', label=\"In between\")\n",
    "plt.fill_between([-2, -1.5], [0, 0], [1, 1], color='b', label=\"Sufficient\")\n",
    "plt.legend(loc=0)\n",
    "plt.xlim([-1.0, 1.0])\n",
    "plt.ylim([0.0, 1.])\n",
    "plt.xticks(linspace(-1, 1, 5))\n",
    "plt.yticks(linspace(0, 1, 6))\n",
    "plt.xlabel(r\"$\\Pi/(e + P)$\")\n",
    "plt.ylabel(r\"$\\sqrt{\\pi^{\\mu\\nu} \\pi_{\\mu\\nu}}/(e + P)$\")\n",
    "plt.text(-0.95, 0.05, r\"(d)\")\n",
    "plt.text(-0.95, 0.9, r\"DNMR with 14-moment $\\tau_\\Pi$\")\n",
    "plt.savefig('on_transport')"
   ]
  },
  {
   "cell_type": "code",
   "execution_count": null,
   "metadata": {},
   "outputs": [],
   "source": []
  }
 ],
 "metadata": {
  "kernelspec": {
   "display_name": "Python 3 (ipykernel)",
   "language": "python",
   "name": "python3"
  },
  "language_info": {
   "codemirror_mode": {
    "name": "ipython",
    "version": 3
   },
   "file_extension": ".py",
   "mimetype": "text/x-python",
   "name": "python",
   "nbconvert_exporter": "python",
   "pygments_lexer": "ipython3",
   "version": "3.10.12"
  }
 },
 "nbformat": 4,
 "nbformat_minor": 4
}
